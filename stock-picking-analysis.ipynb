{
 "cells": [
  {
   "cell_type": "code",
   "execution_count": 1,
   "id": "58b3a671",
   "metadata": {
    "_cell_guid": "b1076dfc-b9ad-4769-8c92-a6c4dae69d19",
    "_uuid": "8f2839f25d086af736a60e9eeb907d3b93b6e0e5",
    "execution": {
     "iopub.execute_input": "2024-06-20T07:30:46.348657Z",
     "iopub.status.busy": "2024-06-20T07:30:46.348227Z",
     "iopub.status.idle": "2024-06-20T07:30:47.745682Z",
     "shell.execute_reply": "2024-06-20T07:30:47.744564Z"
    },
    "papermill": {
     "duration": 1.40486,
     "end_time": "2024-06-20T07:30:47.748609",
     "exception": false,
     "start_time": "2024-06-20T07:30:46.343749",
     "status": "completed"
    },
    "tags": []
   },
   "outputs": [],
   "source": [
    "import requests\n",
    "import pandas as pd\n",
    "from bs4 import BeautifulSoup"
   ]
  },
  {
   "cell_type": "code",
   "execution_count": 2,
   "id": "5a01fe46",
   "metadata": {
    "execution": {
     "iopub.execute_input": "2024-06-20T07:30:47.755504Z",
     "iopub.status.busy": "2024-06-20T07:30:47.754935Z",
     "iopub.status.idle": "2024-06-20T07:30:48.793960Z",
     "shell.execute_reply": "2024-06-20T07:30:48.792851Z"
    },
    "papermill": {
     "duration": 1.045518,
     "end_time": "2024-06-20T07:30:48.796753",
     "exception": false,
     "start_time": "2024-06-20T07:30:47.751235",
     "status": "completed"
    },
    "tags": []
   },
   "outputs": [
    {
     "data": {
      "text/html": [
       "<div>\n",
       "<style scoped>\n",
       "    .dataframe tbody tr th:only-of-type {\n",
       "        vertical-align: middle;\n",
       "    }\n",
       "\n",
       "    .dataframe tbody tr th {\n",
       "        vertical-align: top;\n",
       "    }\n",
       "\n",
       "    .dataframe thead th {\n",
       "        text-align: right;\n",
       "    }\n",
       "</style>\n",
       "<table border=\"1\" class=\"dataframe\">\n",
       "  <thead>\n",
       "    <tr style=\"text-align: right;\">\n",
       "      <th></th>\n",
       "      <th>Date</th>\n",
       "      <th>Adjusted Close price</th>\n",
       "    </tr>\n",
       "  </thead>\n",
       "  <tbody>\n",
       "    <tr>\n",
       "      <th>0</th>\n",
       "      <td>Jun 18, 2024</td>\n",
       "      <td>214.29</td>\n",
       "    </tr>\n",
       "    <tr>\n",
       "      <th>1</th>\n",
       "      <td>Jun 17, 2024</td>\n",
       "      <td>216.67</td>\n",
       "    </tr>\n",
       "    <tr>\n",
       "      <th>2</th>\n",
       "      <td>Jun 14, 2024</td>\n",
       "      <td>212.49</td>\n",
       "    </tr>\n",
       "    <tr>\n",
       "      <th>3</th>\n",
       "      <td>Jun 13, 2024</td>\n",
       "      <td>214.24</td>\n",
       "    </tr>\n",
       "    <tr>\n",
       "      <th>4</th>\n",
       "      <td>Jun 12, 2024</td>\n",
       "      <td>213.07</td>\n",
       "    </tr>\n",
       "  </tbody>\n",
       "</table>\n",
       "</div>"
      ],
      "text/plain": [
       "           Date Adjusted Close price\n",
       "0  Jun 18, 2024               214.29\n",
       "1  Jun 17, 2024               216.67\n",
       "2  Jun 14, 2024               212.49\n",
       "3  Jun 13, 2024               214.24\n",
       "4  Jun 12, 2024               213.07"
      ]
     },
     "execution_count": 2,
     "metadata": {},
     "output_type": "execute_result"
    }
   ],
   "source": [
    "url = 'https://finance.yahoo.com/quote/AAPL/history/?p=AAPL'\n",
    "headers = {\n",
    "    'User-Agent': 'Mozilla/5.0 (Windows NT 10.0; Win64; x64) AppleWebKit/537.36 (KHTML, like Gecko) Chrome/91.0.4472.124 Safari/537.36'\n",
    "}\n",
    "\n",
    "#Creating a dataframe to store the dates and the adjusted close prices of apple\n",
    "df = None\n",
    "prices = {\"Date\": [], \"Adjusted Close price\": []}\n",
    "\n",
    "response = requests.get(url, headers=headers)\n",
    "\n",
    "if response.status_code == 200:\n",
    "    soup = BeautifulSoup(response.text, 'html.parser')\n",
    "    table = soup.find('table', class_='table svelte-ewueuo')\n",
    "    rows = table.find('tbody').find_all('tr')\n",
    "\n",
    "    for row in rows:\n",
    "        tds = row.find_all('td')\n",
    "        if len(tds) >= 6:  # Ensure there are at least 6 <td> elements\n",
    "            prices[\"Date\"].append(tds[0].get_text(strip=True))\n",
    "            prices[\"Adjusted Close price\"].append(tds[5].get_text(strip=True))\n",
    "    df = pd.DataFrame(prices)\n",
    "    \n",
    "\n",
    "    \n",
    "else:\n",
    "    print(f\"Failed to retrieve the webpage. Status code: {response.status_code}\")\n",
    "    \n",
    "df.head()"
   ]
  },
  {
   "cell_type": "code",
   "execution_count": null,
   "id": "8d7a5000",
   "metadata": {
    "papermill": {
     "duration": 0.002306,
     "end_time": "2024-06-20T07:30:48.801732",
     "exception": false,
     "start_time": "2024-06-20T07:30:48.799426",
     "status": "completed"
    },
    "tags": []
   },
   "outputs": [],
   "source": []
  }
 ],
 "metadata": {
  "kaggle": {
   "accelerator": "none",
   "dataSources": [],
   "dockerImageVersionId": 30732,
   "isGpuEnabled": false,
   "isInternetEnabled": true,
   "language": "python",
   "sourceType": "notebook"
  },
  "kernelspec": {
   "display_name": "Python 3",
   "language": "python",
   "name": "python3"
  },
  "language_info": {
   "codemirror_mode": {
    "name": "ipython",
    "version": 3
   },
   "file_extension": ".py",
   "mimetype": "text/x-python",
   "name": "python",
   "nbconvert_exporter": "python",
   "pygments_lexer": "ipython3",
   "version": "3.10.13"
  },
  "papermill": {
   "default_parameters": {},
   "duration": 6.455398,
   "end_time": "2024-06-20T07:30:49.426678",
   "environment_variables": {},
   "exception": null,
   "input_path": "__notebook__.ipynb",
   "output_path": "__notebook__.ipynb",
   "parameters": {},
   "start_time": "2024-06-20T07:30:42.971280",
   "version": "2.5.0"
  }
 },
 "nbformat": 4,
 "nbformat_minor": 5
}
